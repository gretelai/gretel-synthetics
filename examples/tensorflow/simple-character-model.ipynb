{
 "cells": [
  {
   "cell_type": "code",
   "execution_count": null,
   "metadata": {},
   "outputs": [],
   "source": [
    "# Create a synthetic model and generate data using TensorFlow and a simple character tokenizer\n",
    "\n",
    "#!pip install -Uqq \"gretel-synthetics>=0.15.0\"\n",
    "\n",
    "from gretel_synthetics.config import TensorFlowConfig\n",
    "from gretel_synthetics.tokenizers import CharTokenizerTrainer\n",
    "from gretel_synthetics.train import train"
   ]
  },
  {
   "cell_type": "code",
   "execution_count": null,
   "metadata": {},
   "outputs": [],
   "source": [
    "DATA = \"https://gretel-public-website.s3-us-west-2.amazonaws.com/datasets/uber_scooter_rides_1day.csv\""
   ]
  },
  {
   "cell_type": "code",
   "execution_count": null,
   "metadata": {},
   "outputs": [],
   "source": [
    "from pathlib import Path\n",
    "\n",
    "config = TensorFlowConfig(\n",
    "    input_data_path=DATA,\n",
    "    checkpoint_dir=str(Path.cwd() / \"checkpoints\"),\n",
    "    field_delimiter=\",\",\n",
    "    overwrite=True\n",
    ")"
   ]
  },
  {
   "cell_type": "code",
   "execution_count": null,
   "metadata": {},
   "outputs": [],
   "source": [
    "tokenizer = CharTokenizerTrainer(config=config)"
   ]
  },
  {
   "cell_type": "code",
   "execution_count": null,
   "metadata": {},
   "outputs": [],
   "source": [
    "train(config, tokenizer)"
   ]
  },
  {
   "cell_type": "code",
   "execution_count": null,
   "metadata": {},
   "outputs": [],
   "source": [
    "# Now we can generate with this config\n",
    "\n",
    "from gretel_synthetics.generate import generate_text\n",
    "\n",
    "def validate_record(line):\n",
    "    rec = line.split(\", \")\n",
    "    if len(rec) == 6:\n",
    "        float(rec[5])\n",
    "        float(rec[4])\n",
    "        float(rec[3])\n",
    "        float(rec[2])\n",
    "        int(rec[0])\n",
    "    else:\n",
    "        raise Exception('record not 6 parts')"
   ]
  },
  {
   "cell_type": "code",
   "execution_count": null,
   "metadata": {},
   "outputs": [],
   "source": [
    "for line in generate_text(config, line_validator=validate_record, num_lines=1000):\n",
    "    print(line)"
   ]
  }
 ],
 "metadata": {
  "kernelspec": {
   "display_name": "Python 3",
   "language": "python",
   "name": "python3"
  },
  "language_info": {
   "codemirror_mode": {
    "name": "ipython",
    "version": 3
   },
   "file_extension": ".py",
   "mimetype": "text/x-python",
   "name": "python",
   "nbconvert_exporter": "python",
   "pygments_lexer": "ipython3",
   "version": "3.7.5"
  }
 },
 "nbformat": 4,
 "nbformat_minor": 4
}
