{
 "cells": [
  {
   "cell_type": "markdown",
   "metadata": {},
   "source": [
    "# Generating synthetic data\n",
    "\n",
    "This notebook walks through training a probabilistic, generative RNN model<br>\n",
    "on a rental scooter location dataset, and then generating a synthetic<br>\n",
    "dataset with greater privacy guarantees. \n",
    "\n",
    "For both training and generating data, we can use the ``config.py`` module and<br>\n",
    "create a ``LocalConfig`` instance that contains all the attributes that we need<br>\n",
    "for both activities."
   ]
  },
  {
   "cell_type": "code",
   "execution_count": null,
   "metadata": {},
   "outputs": [],
   "source": [
    "# Google Colab support\n",
    "# Note: Click \"Runtime->Change Runtime Type\" set Hardware Accelerator to \"GPU\"\n",
    "# Note: Use pip install gretel-synthetics[tf] to install tensorflow if necessary\n",
    "# \n",
    "#!pip install gretel-synthetics --upgrade"
   ]
  },
  {
   "cell_type": "code",
   "execution_count": null,
   "metadata": {},
   "outputs": [],
   "source": [
    "from pathlib import Path\n",
    "\n",
    "from gretel_synthetics.config import LocalConfig\n",
    "\n",
    "# Create a config that we can use for both training and generating data\n",
    "# The default values for ``max_lines`` and ``epochs`` are optimized for training on a GPU.\n",
    "\n",
    "config = LocalConfig(\n",
    "    max_line_len=2048,   # the max line length for input training data\n",
    "    vocab_size=20000,    # tokenizer model vocabulary size\n",
    "    field_delimiter=\",\", # specify if the training text is structured, else ``None``\n",
    "    overwrite=True,      # overwrite previously trained model checkpoints\n",
    "    checkpoint_dir=(Path.cwd() / 'checkpoints').as_posix(),\n",
    "    input_data_path=\"https://gretel-public-website.s3-us-west-2.amazonaws.com/datasets/uber_scooter_rides_1day.csv\" # filepath or S3\n",
    ")\n"
   ]
  },
  {
   "cell_type": "code",
   "execution_count": null,
   "metadata": {},
   "outputs": [],
   "source": [
    "# Train a model\n",
    "# The training function only requires our config as a single arg\n",
    "from gretel_synthetics.train import train_rnn\n",
    "\n",
    "train_rnn(config)"
   ]
  },
  {
   "cell_type": "code",
   "execution_count": null,
   "metadata": {},
   "outputs": [],
   "source": [
    "# Let's generate some text!\n",
    "#\n",
    "# The ``generate_text`` funtion is a generator that will return\n",
    "# a line of predicted text based on the ``gen_lines`` setting in your\n",
    "# config.\n",
    "#\n",
    "# There is no limit on the line length as with proper training, your model\n",
    "# should learn where newlines generally occur. However, if you want to\n",
    "# specify a maximum char len for each line, you may set the ``gen_chars``\n",
    "# attribute in your config object\n",
    "from gretel_synthetics.generate import generate_text\n",
    "\n",
    "# Optionally, when generating text, you can provide a callable that takes the \n",
    "# generated line as a single arg. If this function raises any errors, the \n",
    "# line will fail validation and will not be returned.  The exception message\n",
    "# will be provided as a ``explain`` field in the resulting dict that gets\n",
    "# created by ``generate_text``\n",
    "def validate_record(line):\n",
    "    rec = line.split(\", \")\n",
    "    if len(rec) == 6:\n",
    "        float(rec[5])\n",
    "        float(rec[4])\n",
    "        float(rec[3])\n",
    "        float(rec[2])\n",
    "        int(rec[0])\n",
    "    else:\n",
    "        raise Exception('record not 6 parts')\n",
    "        \n",
    "for line in generate_text(config, line_validator=validate_record, num_lines=1000):\n",
    "    print(line)"
   ]
  }
 ],
 "metadata": {
  "kernelspec": {
   "display_name": "Python 3",
   "language": "python",
   "name": "python3"
  },
  "language_info": {
   "codemirror_mode": {
    "name": "ipython",
    "version": 3
   },
   "file_extension": ".py",
   "mimetype": "text/x-python",
   "name": "python",
   "nbconvert_exporter": "python",
   "pygments_lexer": "ipython3",
   "version": "3.7.5"
  }
 },
 "nbformat": 4,
 "nbformat_minor": 4
}
