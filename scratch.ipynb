{
 "cells": [
  {
   "cell_type": "code",
   "execution_count": 1,
   "id": "complicated-breathing",
   "metadata": {},
   "outputs": [],
   "source": [
    "from gretel_synthetics.batch import DataFrameBatch\n",
    "import time\n",
    "import pandas as pd"
   ]
  },
  {
   "cell_type": "code",
   "execution_count": 2,
   "id": "agricultural-accounting",
   "metadata": {
    "scrolled": true
   },
   "outputs": [
    {
     "name": "stderr",
     "output_type": "stream",
     "text": [
      "2021-03-06 09:20:59,392 : MainThread : INFO : Looking for and loading batch data...\n",
      "2021-03-06 09:20:59,396 : MainThread : INFO : Found and loaded 3 batches\n",
      "2021-03-06 09:20:59,397 : MainThread : INFO : Validating underlying models exist via generation test...\n"
     ]
    },
    {
     "data": {
      "application/vnd.jupyter.widget-view+json": {
       "model_id": "49bffb52c45c450b80f24119ce7f8699",
       "version_major": 2,
       "version_minor": 0
      },
      "text/plain": [
       "Valid record count :   0%|          | 0/1 [00:00<?, ?it/s]"
      ]
     },
     "metadata": {},
     "output_type": "display_data"
    },
    {
     "data": {
      "application/vnd.jupyter.widget-view+json": {
       "model_id": "0728146029614e65b086397e656fec84",
       "version_major": 2,
       "version_minor": 0
      },
      "text/plain": [
       "Invalid record count :   0%|          | 0/1000 [00:00<?, ?it/s]"
      ]
     },
     "metadata": {},
     "output_type": "display_data"
    },
    {
     "name": "stderr",
     "output_type": "stream",
     "text": [
      "2021-03-06 09:20:59,456 : MainThread : INFO : Loading tokenizer from: m.model\n",
      "2021-03-06 09:20:59,467 : MainThread : INFO : Tokenizer model vocabulary size: 5536 tokens\n",
      "2021-03-06 09:20:59,468 : MainThread : INFO : Mapping first line of training data\n",
      "\n",
      "'30<d>?<d>157289<d>11th<d>7<n>'\n",
      " ---- sample tokens mapped to pieces ---- > \n",
      "▁, 3, 0, <d>, ?, <d>, 157, 28, 9, <d>, 1, 1, th, <d>, 7, <n>\n",
      "\n",
      "2021-03-06 09:20:59,469 : MainThread : INFO : Mapping first line of training data\n",
      "\n",
      "'30<d>?<d>157289<d>11th<d>7<n>'\n",
      " ---- sample tokens mapped to int ---- > \n",
      "25, 47, 4, 55, 4, 1140, 13, 4, 50, 41, 4, 34, 3\n",
      "\n",
      "2021-03-06 09:20:59,842 : MainThread : INFO : Using keras.optimizers.RMSprop optimizer\n"
     ]
    },
    {
     "name": "stdout",
     "output_type": "stream",
     "text": [
      "Model: \"sequential\"\n",
      "_________________________________________________________________\n",
      "Layer (type)                 Output Shape              Param #   \n",
      "=================================================================\n",
      "embedding (Embedding)        (64, None, 256)           1417216   \n",
      "_________________________________________________________________\n",
      "dropout (Dropout)            (64, None, 256)           0         \n",
      "_________________________________________________________________\n",
      "lstm (LSTM)                  (64, None, 256)           525312    \n",
      "_________________________________________________________________\n",
      "dropout_1 (Dropout)          (64, None, 256)           0         \n",
      "_________________________________________________________________\n",
      "lstm_1 (LSTM)                (64, None, 256)           525312    \n",
      "_________________________________________________________________\n",
      "dropout_2 (Dropout)          (64, None, 256)           0         \n",
      "_________________________________________________________________\n",
      "dense (Dense)                (64, None, 5536)          1422752   \n",
      "=================================================================\n",
      "Total params: 3,890,592\n",
      "Trainable params: 3,890,592\n",
      "Non-trainable params: 0\n",
      "_________________________________________________________________\n",
      "None\n",
      "Model: \"sequential\"\n",
      "_________________________________________________________________\n",
      "Layer (type)                 Output Shape              Param #   \n",
      "=================================================================\n",
      "embedding (Embedding)        (64, None, 256)           1417216   \n",
      "_________________________________________________________________\n",
      "dropout (Dropout)            (64, None, 256)           0         \n",
      "_________________________________________________________________\n",
      "lstm (LSTM)                  (64, None, 256)           525312    \n",
      "_________________________________________________________________\n",
      "dropout_1 (Dropout)          (64, None, 256)           0         \n",
      "_________________________________________________________________\n",
      "lstm_1 (LSTM)                (64, None, 256)           525312    \n",
      "_________________________________________________________________\n",
      "dropout_2 (Dropout)          (64, None, 256)           0         \n",
      "_________________________________________________________________\n",
      "dense (Dense)                (64, None, 5536)          1422752   \n",
      "=================================================================\n",
      "Total params: 3,890,592\n",
      "Trainable params: 3,890,592\n",
      "Non-trainable params: 0\n",
      "_________________________________________________________________\n"
     ]
    },
    {
     "data": {
      "application/vnd.jupyter.widget-view+json": {
       "model_id": "9f7af4e3c24842b582c9aeb2cfae7d1c",
       "version_major": 2,
       "version_minor": 0
      },
      "text/plain": [
       "Valid record count :   0%|          | 0/1 [00:00<?, ?it/s]"
      ]
     },
     "metadata": {},
     "output_type": "display_data"
    },
    {
     "data": {
      "application/vnd.jupyter.widget-view+json": {
       "model_id": "9f64b9f4f9c645a091f9fce1a0bc4594",
       "version_major": 2,
       "version_minor": 0
      },
      "text/plain": [
       "Invalid record count :   0%|          | 0/1000 [00:00<?, ?it/s]"
      ]
     },
     "metadata": {},
     "output_type": "display_data"
    },
    {
     "name": "stderr",
     "output_type": "stream",
     "text": [
      "2021-03-06 09:21:01,153 : MainThread : INFO : Loading tokenizer from: m.model\n",
      "2021-03-06 09:21:01,156 : MainThread : INFO : Tokenizer model vocabulary size: 118 tokens\n",
      "2021-03-06 09:21:01,157 : MainThread : INFO : Mapping first line of training data\n",
      "\n",
      "'Never-married<d>?<d>Unmarried<d>White<d>Male<n>'\n",
      " ---- sample tokens mapped to pieces ---- > \n",
      "▁, N, e, v, e, r, -, m, ar, r, i, e, d, <d>, ?, <d>, U, n, m, ar, ried, <d>, W, hi, t, e, <d>, M, a, le, <n>\n",
      "\n",
      "2021-03-06 09:21:01,158 : MainThread : INFO : Mapping first line of training data\n",
      "\n",
      "'Never-married<d>?<d>Unmarried<d>White<d>Male<n>'\n",
      " ---- sample tokens mapped to int ---- > \n",
      "7, 14, 5, 54, 13, 6, 12, 33, 4, 80, 4, 69, 29, 12, 33, 4, 9, 8, 10, 4, 11, 17, 3\n",
      "\n",
      "2021-03-06 09:21:01,510 : MainThread : INFO : Using keras.optimizers.RMSprop optimizer\n"
     ]
    },
    {
     "name": "stdout",
     "output_type": "stream",
     "text": [
      "Model: \"sequential_1\"\n",
      "_________________________________________________________________\n",
      "Layer (type)                 Output Shape              Param #   \n",
      "=================================================================\n",
      "embedding_1 (Embedding)      (64, None, 256)           30208     \n",
      "_________________________________________________________________\n",
      "dropout_3 (Dropout)          (64, None, 256)           0         \n",
      "_________________________________________________________________\n",
      "lstm_2 (LSTM)                (64, None, 256)           525312    \n",
      "_________________________________________________________________\n",
      "dropout_4 (Dropout)          (64, None, 256)           0         \n",
      "_________________________________________________________________\n",
      "lstm_3 (LSTM)                (64, None, 256)           525312    \n",
      "_________________________________________________________________\n",
      "dropout_5 (Dropout)          (64, None, 256)           0         \n",
      "_________________________________________________________________\n",
      "dense_1 (Dense)              (64, None, 118)           30326     \n",
      "=================================================================\n",
      "Total params: 1,111,158\n",
      "Trainable params: 1,111,158\n",
      "Non-trainable params: 0\n",
      "_________________________________________________________________\n",
      "None\n",
      "Model: \"sequential_1\"\n",
      "_________________________________________________________________\n",
      "Layer (type)                 Output Shape              Param #   \n",
      "=================================================================\n",
      "embedding_1 (Embedding)      (64, None, 256)           30208     \n",
      "_________________________________________________________________\n",
      "dropout_3 (Dropout)          (64, None, 256)           0         \n",
      "_________________________________________________________________\n",
      "lstm_2 (LSTM)                (64, None, 256)           525312    \n",
      "_________________________________________________________________\n",
      "dropout_4 (Dropout)          (64, None, 256)           0         \n",
      "_________________________________________________________________\n",
      "lstm_3 (LSTM)                (64, None, 256)           525312    \n",
      "_________________________________________________________________\n",
      "dropout_5 (Dropout)          (64, None, 256)           0         \n",
      "_________________________________________________________________\n",
      "dense_1 (Dense)              (64, None, 118)           30326     \n",
      "=================================================================\n",
      "Total params: 1,111,158\n",
      "Trainable params: 1,111,158\n",
      "Non-trainable params: 0\n",
      "_________________________________________________________________\n"
     ]
    },
    {
     "data": {
      "application/vnd.jupyter.widget-view+json": {
       "model_id": "d8b3a071750942f2b8255fbbe60e9978",
       "version_major": 2,
       "version_minor": 0
      },
      "text/plain": [
       "Valid record count :   0%|          | 0/1 [00:00<?, ?it/s]"
      ]
     },
     "metadata": {},
     "output_type": "display_data"
    },
    {
     "data": {
      "application/vnd.jupyter.widget-view+json": {
       "model_id": "a3133d9ae26a4d569ae94661afbf13d3",
       "version_major": 2,
       "version_minor": 0
      },
      "text/plain": [
       "Invalid record count :   0%|          | 0/1000 [00:00<?, ?it/s]"
      ]
     },
     "metadata": {},
     "output_type": "display_data"
    },
    {
     "name": "stderr",
     "output_type": "stream",
     "text": [
      "2021-03-06 09:21:02,999 : MainThread : INFO : Loading tokenizer from: m.model\n",
      "2021-03-06 09:21:03,002 : MainThread : INFO : Tokenizer model vocabulary size: 265 tokens\n",
      "2021-03-06 09:21:03,003 : MainThread : INFO : Mapping first line of training data\n",
      "\n",
      "'0<d>0<d>40<d>United-States<d><=50K<n>'\n",
      " ---- sample tokens mapped to pieces ---- > \n",
      "▁, 0, <, d, >, 0, <d>, 4, 0, <d>, U, n, i, t, e, d, -, S, t, ate, s, <d>, <, =, 50, K, <, n, >\n",
      "\n",
      "2021-03-06 09:21:03,003 : MainThread : INFO : Mapping first line of training data\n",
      "\n",
      "'0<d>0<d>40<d>United-States<d><=50K<n>'\n",
      " ---- sample tokens mapped to int ---- > \n",
      "9, 5, 4, 5, 4, 19, 4, 14, 15, 6, 13, 10, 12, 18, 6, 11, 4, 16, 17, 7, 8, 3\n",
      "\n",
      "2021-03-06 09:21:03,347 : MainThread : INFO : Using keras.optimizers.RMSprop optimizer\n"
     ]
    },
    {
     "name": "stdout",
     "output_type": "stream",
     "text": [
      "Model: \"sequential_2\"\n",
      "_________________________________________________________________\n",
      "Layer (type)                 Output Shape              Param #   \n",
      "=================================================================\n",
      "embedding_2 (Embedding)      (64, None, 256)           67840     \n",
      "_________________________________________________________________\n",
      "dropout_6 (Dropout)          (64, None, 256)           0         \n",
      "_________________________________________________________________\n",
      "lstm_4 (LSTM)                (64, None, 256)           525312    \n",
      "_________________________________________________________________\n",
      "dropout_7 (Dropout)          (64, None, 256)           0         \n",
      "_________________________________________________________________\n",
      "lstm_5 (LSTM)                (64, None, 256)           525312    \n",
      "_________________________________________________________________\n",
      "dropout_8 (Dropout)          (64, None, 256)           0         \n",
      "_________________________________________________________________\n",
      "dense_2 (Dense)              (64, None, 265)           68105     \n",
      "=================================================================\n",
      "Total params: 1,186,569\n",
      "Trainable params: 1,186,569\n",
      "Non-trainable params: 0\n",
      "_________________________________________________________________\n",
      "None\n",
      "Model: \"sequential_2\"\n",
      "_________________________________________________________________\n",
      "Layer (type)                 Output Shape              Param #   \n",
      "=================================================================\n",
      "embedding_2 (Embedding)      (64, None, 256)           67840     \n",
      "_________________________________________________________________\n",
      "dropout_6 (Dropout)          (64, None, 256)           0         \n",
      "_________________________________________________________________\n",
      "lstm_4 (LSTM)                (64, None, 256)           525312    \n",
      "_________________________________________________________________\n",
      "dropout_7 (Dropout)          (64, None, 256)           0         \n",
      "_________________________________________________________________\n",
      "lstm_5 (LSTM)                (64, None, 256)           525312    \n",
      "_________________________________________________________________\n",
      "dropout_8 (Dropout)          (64, None, 256)           0         \n",
      "_________________________________________________________________\n",
      "dense_2 (Dense)              (64, None, 265)           68105     \n",
      "=================================================================\n",
      "Total params: 1,186,569\n",
      "Trainable params: 1,186,569\n",
      "Non-trainable params: 0\n",
      "_________________________________________________________________\n"
     ]
    }
   ],
   "source": [
    "batch = DataFrameBatch(mode=\"read\", checkpoint_dir=\"test-model-2\")"
   ]
  },
  {
   "cell_type": "code",
   "execution_count": 5,
   "id": "arbitrary-operator",
   "metadata": {},
   "outputs": [],
   "source": [
    "class MyValidator:\n",
    "    \n",
    "    counter = 0\n",
    "    \n",
    "    def __call__(self, record: dict):\n",
    "        if self.counter == 10:\n",
    "            self.counter = 0\n",
    "            # print(\"fail\")\n",
    "            return False\n",
    "        self.counter += 1"
   ]
  },
  {
   "cell_type": "code",
   "execution_count": 9,
   "id": "exempt-worcester",
   "metadata": {},
   "outputs": [
    {
     "name": "stderr",
     "output_type": "stream",
     "text": [
      "2021-03-06 09:26:02,462 : MainThread : INFO : Adjusting num_lines and parallelism because seed_fields is a list, will only target 99 lines\n"
     ]
    }
   ],
   "source": [
    "# factory = batch.create_record_factory(num_lines=50, seed_fields=[{\"payload.service_handler\": \"i-051a2a353509414f0\"}]*100, max_invalid=1000000, validator=MyValidator())\n",
    "\n",
    "age_seeds = [{\"age\": i} for i in range(1, 100)]\n",
    "factory = batch.create_record_factory(num_lines=50, seed_fields=age_seeds, max_invalid=1000000, validator=MyValidator())"
   ]
  },
  {
   "cell_type": "code",
   "execution_count": 10,
   "id": "velvet-shore",
   "metadata": {
    "scrolled": false
   },
   "outputs": [
    {
     "data": {
      "application/vnd.jupyter.widget-view+json": {
       "model_id": "3f5bbe8ea8bb40fdb3216ed7d17270e5",
       "version_major": 2,
       "version_minor": 0
      },
      "text/plain": [
       "  0%|          | 0/99 [00:00<?, ?it/s]"
      ]
     },
     "metadata": {},
     "output_type": "display_data"
    },
    {
     "name": "stderr",
     "output_type": "stream",
     "text": [
      "2021-03-06 09:26:06,934 : MainThread : INFO : Loading tokenizer from: m.model\n",
      "2021-03-06 09:26:06,947 : MainThread : INFO : Tokenizer model vocabulary size: 5536 tokens\n",
      "2021-03-06 09:26:06,948 : MainThread : INFO : Mapping first line of training data\n",
      "\n",
      "'30<d>?<d>157289<d>11th<d>7<n>'\n",
      " ---- sample tokens mapped to pieces ---- > \n",
      "▁, 30, <d>, ?, <d>, 15, 728, 9, <d>, 11, t, h, <d>, 7, <n>\n",
      "\n",
      "2021-03-06 09:26:06,949 : MainThread : INFO : Mapping first line of training data\n",
      "\n",
      "'30<d>?<d>157289<d>11th<d>7<n>'\n",
      " ---- sample tokens mapped to int ---- > \n",
      "25, 47, 4, 55, 4, 1140, 13, 4, 50, 41, 4, 34, 3\n",
      "\n",
      "2021-03-06 09:26:07,356 : MainThread : INFO : Using keras.optimizers.RMSprop optimizer\n"
     ]
    },
    {
     "name": "stdout",
     "output_type": "stream",
     "text": [
      "Model: \"sequential_3\"\n",
      "_________________________________________________________________\n",
      "Layer (type)                 Output Shape              Param #   \n",
      "=================================================================\n",
      "embedding_3 (Embedding)      (1, None, 256)            1417216   \n",
      "_________________________________________________________________\n",
      "dropout_9 (Dropout)          (1, None, 256)            0         \n",
      "_________________________________________________________________\n",
      "lstm_6 (LSTM)                (1, None, 256)            525312    \n",
      "_________________________________________________________________\n",
      "dropout_10 (Dropout)         (1, None, 256)            0         \n",
      "_________________________________________________________________\n",
      "lstm_7 (LSTM)                (1, None, 256)            525312    \n",
      "_________________________________________________________________\n",
      "dropout_11 (Dropout)         (1, None, 256)            0         \n",
      "_________________________________________________________________\n",
      "dense_3 (Dense)              (1, None, 5536)           1422752   \n",
      "=================================================================\n",
      "Total params: 3,890,592\n",
      "Trainable params: 3,890,592\n",
      "Non-trainable params: 0\n",
      "_________________________________________________________________\n",
      "None\n",
      "Model: \"sequential_3\"\n",
      "_________________________________________________________________\n",
      "Layer (type)                 Output Shape              Param #   \n",
      "=================================================================\n",
      "embedding_3 (Embedding)      (1, None, 256)            1417216   \n",
      "_________________________________________________________________\n",
      "dropout_9 (Dropout)          (1, None, 256)            0         \n",
      "_________________________________________________________________\n",
      "lstm_6 (LSTM)                (1, None, 256)            525312    \n",
      "_________________________________________________________________\n",
      "dropout_10 (Dropout)         (1, None, 256)            0         \n",
      "_________________________________________________________________\n",
      "lstm_7 (LSTM)                (1, None, 256)            525312    \n",
      "_________________________________________________________________\n",
      "dropout_11 (Dropout)         (1, None, 256)            0         \n",
      "_________________________________________________________________\n",
      "dense_3 (Dense)              (1, None, 5536)           1422752   \n",
      "=================================================================\n",
      "Total params: 3,890,592\n",
      "Trainable params: 3,890,592\n",
      "Non-trainable params: 0\n",
      "_________________________________________________________________\n"
     ]
    },
    {
     "name": "stderr",
     "output_type": "stream",
     "text": [
      "2021-03-06 09:26:08,431 : MainThread : INFO : Loading tokenizer from: m.model\n",
      "2021-03-06 09:26:08,436 : MainThread : INFO : Tokenizer model vocabulary size: 118 tokens\n",
      "2021-03-06 09:26:08,436 : MainThread : INFO : Mapping first line of training data\n",
      "\n",
      "'Never-married<d>?<d>Unmarried<d>White<d>Male<n>'\n",
      " ---- sample tokens mapped to pieces ---- > \n",
      "▁, N, e, v, e, r, -, ma, rried, <d>, ?, <d>, U, n, ma, rried, <d>, W, hi, t, e, <d>, Ma, le, <n>\n",
      "\n",
      "2021-03-06 09:26:08,437 : MainThread : INFO : Mapping first line of training data\n",
      "\n",
      "'Never-married<d>?<d>Unmarried<d>White<d>Male<n>'\n",
      " ---- sample tokens mapped to int ---- > \n",
      "7, 14, 5, 54, 13, 6, 12, 33, 4, 80, 4, 69, 29, 12, 33, 4, 9, 8, 10, 4, 11, 17, 3\n",
      "\n",
      "2021-03-06 09:26:08,778 : MainThread : INFO : Using keras.optimizers.RMSprop optimizer\n"
     ]
    },
    {
     "name": "stdout",
     "output_type": "stream",
     "text": [
      "Model: \"sequential_4\"\n",
      "_________________________________________________________________\n",
      "Layer (type)                 Output Shape              Param #   \n",
      "=================================================================\n",
      "embedding_4 (Embedding)      (64, None, 256)           30208     \n",
      "_________________________________________________________________\n",
      "dropout_12 (Dropout)         (64, None, 256)           0         \n",
      "_________________________________________________________________\n",
      "lstm_8 (LSTM)                (64, None, 256)           525312    \n",
      "_________________________________________________________________\n",
      "dropout_13 (Dropout)         (64, None, 256)           0         \n",
      "_________________________________________________________________\n",
      "lstm_9 (LSTM)                (64, None, 256)           525312    \n",
      "_________________________________________________________________\n",
      "dropout_14 (Dropout)         (64, None, 256)           0         \n",
      "_________________________________________________________________\n",
      "dense_4 (Dense)              (64, None, 118)           30326     \n",
      "=================================================================\n",
      "Total params: 1,111,158\n",
      "Trainable params: 1,111,158\n",
      "Non-trainable params: 0\n",
      "_________________________________________________________________\n",
      "None\n",
      "Model: \"sequential_4\"\n",
      "_________________________________________________________________\n",
      "Layer (type)                 Output Shape              Param #   \n",
      "=================================================================\n",
      "embedding_4 (Embedding)      (64, None, 256)           30208     \n",
      "_________________________________________________________________\n",
      "dropout_12 (Dropout)         (64, None, 256)           0         \n",
      "_________________________________________________________________\n",
      "lstm_8 (LSTM)                (64, None, 256)           525312    \n",
      "_________________________________________________________________\n",
      "dropout_13 (Dropout)         (64, None, 256)           0         \n",
      "_________________________________________________________________\n",
      "lstm_9 (LSTM)                (64, None, 256)           525312    \n",
      "_________________________________________________________________\n",
      "dropout_14 (Dropout)         (64, None, 256)           0         \n",
      "_________________________________________________________________\n",
      "dense_4 (Dense)              (64, None, 118)           30326     \n",
      "=================================================================\n",
      "Total params: 1,111,158\n",
      "Trainable params: 1,111,158\n",
      "Non-trainable params: 0\n",
      "_________________________________________________________________\n"
     ]
    },
    {
     "name": "stderr",
     "output_type": "stream",
     "text": [
      "2021-03-06 09:26:10,266 : MainThread : INFO : Loading tokenizer from: m.model\n",
      "2021-03-06 09:26:10,271 : MainThread : INFO : Tokenizer model vocabulary size: 265 tokens\n",
      "2021-03-06 09:26:10,272 : MainThread : INFO : Mapping first line of training data\n",
      "\n",
      "'0<d>0<d>40<d>United-States<d><=50K<n>'\n",
      " ---- sample tokens mapped to pieces ---- > \n",
      "▁, 0, <d>, 0, <d>, 40, <d>, U, ni, te, d, -, S, t, a, t, e, s, <d>, <, =, 50, K, <n>\n",
      "\n",
      "2021-03-06 09:26:10,272 : MainThread : INFO : Mapping first line of training data\n",
      "\n",
      "'0<d>0<d>40<d>United-States<d><=50K<n>'\n",
      " ---- sample tokens mapped to int ---- > \n",
      "9, 5, 4, 5, 4, 19, 4, 14, 15, 6, 13, 10, 12, 18, 6, 11, 4, 16, 17, 7, 8, 3\n",
      "\n",
      "2021-03-06 09:26:10,610 : MainThread : INFO : Using keras.optimizers.RMSprop optimizer\n"
     ]
    },
    {
     "name": "stdout",
     "output_type": "stream",
     "text": [
      "Model: \"sequential_5\"\n",
      "_________________________________________________________________\n",
      "Layer (type)                 Output Shape              Param #   \n",
      "=================================================================\n",
      "embedding_5 (Embedding)      (64, None, 256)           67840     \n",
      "_________________________________________________________________\n",
      "dropout_15 (Dropout)         (64, None, 256)           0         \n",
      "_________________________________________________________________\n",
      "lstm_10 (LSTM)               (64, None, 256)           525312    \n",
      "_________________________________________________________________\n",
      "dropout_16 (Dropout)         (64, None, 256)           0         \n",
      "_________________________________________________________________\n",
      "lstm_11 (LSTM)               (64, None, 256)           525312    \n",
      "_________________________________________________________________\n",
      "dropout_17 (Dropout)         (64, None, 256)           0         \n",
      "_________________________________________________________________\n",
      "dense_5 (Dense)              (64, None, 265)           68105     \n",
      "=================================================================\n",
      "Total params: 1,186,569\n",
      "Trainable params: 1,186,569\n",
      "Non-trainable params: 0\n",
      "_________________________________________________________________\n",
      "None\n",
      "Model: \"sequential_5\"\n",
      "_________________________________________________________________\n",
      "Layer (type)                 Output Shape              Param #   \n",
      "=================================================================\n",
      "embedding_5 (Embedding)      (64, None, 256)           67840     \n",
      "_________________________________________________________________\n",
      "dropout_15 (Dropout)         (64, None, 256)           0         \n",
      "_________________________________________________________________\n",
      "lstm_10 (LSTM)               (64, None, 256)           525312    \n",
      "_________________________________________________________________\n",
      "dropout_16 (Dropout)         (64, None, 256)           0         \n",
      "_________________________________________________________________\n",
      "lstm_11 (LSTM)               (64, None, 256)           525312    \n",
      "_________________________________________________________________\n",
      "dropout_17 (Dropout)         (64, None, 256)           0         \n",
      "_________________________________________________________________\n",
      "dense_5 (Dense)              (64, None, 265)           68105     \n",
      "=================================================================\n",
      "Total params: 1,186,569\n",
      "Trainable params: 1,186,569\n",
      "Non-trainable params: 0\n",
      "_________________________________________________________________\n",
      "98\n",
      "97\n",
      "96\n",
      "95\n",
      "94\n",
      "93\n",
      "92\n",
      "91\n",
      "90\n",
      "89\n",
      "89\n",
      "88\n",
      "87\n",
      "86\n",
      "85\n",
      "84\n",
      "83\n",
      "82\n",
      "81\n",
      "80\n",
      "79\n",
      "79\n",
      "78\n",
      "77\n",
      "76\n",
      "75\n",
      "74\n",
      "73\n",
      "72\n",
      "71\n",
      "70\n",
      "69\n",
      "69\n",
      "68\n",
      "67\n",
      "66\n",
      "65\n",
      "64\n",
      "63\n",
      "62\n",
      "61\n",
      "60\n",
      "59\n",
      "59\n",
      "58\n",
      "57\n",
      "56\n",
      "55\n",
      "54\n",
      "53\n",
      "52\n",
      "51\n",
      "50\n",
      "49\n",
      "49\n",
      "48\n",
      "47\n",
      "46\n",
      "45\n",
      "44\n",
      "43\n",
      "42\n",
      "41\n",
      "40\n",
      "39\n",
      "39\n",
      "38\n",
      "37\n",
      "36\n",
      "35\n",
      "34\n",
      "33\n",
      "32\n",
      "31\n",
      "30\n",
      "29\n",
      "29\n",
      "28\n",
      "27\n",
      "26\n",
      "25\n",
      "24\n",
      "23\n",
      "22\n",
      "21\n",
      "20\n",
      "19\n",
      "19\n",
      "18\n",
      "17\n",
      "16\n",
      "15\n",
      "14\n",
      "13\n",
      "12\n",
      "11\n",
      "10\n",
      "9\n",
      "9\n",
      "8\n",
      "7\n",
      "6\n",
      "5\n",
      "4\n",
      "3\n",
      "2\n",
      "1\n"
     ]
    }
   ],
   "source": [
    "df = factory.generate_all(output=\"df\")"
   ]
  },
  {
   "cell_type": "code",
   "execution_count": 11,
   "id": "outdoor-concord",
   "metadata": {},
   "outputs": [
    {
     "data": {
      "text/html": [
       "<div>\n",
       "<style scoped>\n",
       "    .dataframe tbody tr th:only-of-type {\n",
       "        vertical-align: middle;\n",
       "    }\n",
       "\n",
       "    .dataframe tbody tr th {\n",
       "        vertical-align: top;\n",
       "    }\n",
       "\n",
       "    .dataframe thead th {\n",
       "        text-align: right;\n",
       "    }\n",
       "</style>\n",
       "<table border=\"1\" class=\"dataframe\">\n",
       "  <thead>\n",
       "    <tr style=\"text-align: right;\">\n",
       "      <th></th>\n",
       "      <th>age</th>\n",
       "      <th>workclass</th>\n",
       "      <th>fnlwgt</th>\n",
       "      <th>education</th>\n",
       "      <th>education_num</th>\n",
       "      <th>marital_status</th>\n",
       "      <th>occupation</th>\n",
       "      <th>relationship</th>\n",
       "      <th>race</th>\n",
       "      <th>gender</th>\n",
       "      <th>capital_gain</th>\n",
       "      <th>capital_loss</th>\n",
       "      <th>hours_per_week</th>\n",
       "      <th>native_country</th>\n",
       "      <th>income_bracket</th>\n",
       "    </tr>\n",
       "  </thead>\n",
       "  <tbody>\n",
       "    <tr>\n",
       "      <th>0</th>\n",
       "      <td>1</td>\n",
       "      <td>Private</td>\n",
       "      <td>195426</td>\n",
       "      <td>12th</td>\n",
       "      <td>8</td>\n",
       "      <td>Married-civ-spouse</td>\n",
       "      <td>?</td>\n",
       "      <td>Husband</td>\n",
       "      <td>White</td>\n",
       "      <td>Male</td>\n",
       "      <td>0</td>\n",
       "      <td>0</td>\n",
       "      <td>40</td>\n",
       "      <td>?</td>\n",
       "      <td>&lt;=50K</td>\n",
       "    </tr>\n",
       "    <tr>\n",
       "      <th>1</th>\n",
       "      <td>2</td>\n",
       "      <td>?</td>\n",
       "      <td>69335</td>\n",
       "      <td>Some-college</td>\n",
       "      <td>10</td>\n",
       "      <td>Married-civ-spouse</td>\n",
       "      <td>?</td>\n",
       "      <td>Husband</td>\n",
       "      <td>White</td>\n",
       "      <td>Male</td>\n",
       "      <td>0</td>\n",
       "      <td>0</td>\n",
       "      <td>40</td>\n",
       "      <td>Cuba</td>\n",
       "      <td>&lt;=50K</td>\n",
       "    </tr>\n",
       "    <tr>\n",
       "      <th>2</th>\n",
       "      <td>3</td>\n",
       "      <td>Private</td>\n",
       "      <td>198186</td>\n",
       "      <td>Bachelors</td>\n",
       "      <td>13</td>\n",
       "      <td>Married-civ-spouse</td>\n",
       "      <td>Sales</td>\n",
       "      <td>Husband</td>\n",
       "      <td>White</td>\n",
       "      <td>Male</td>\n",
       "      <td>0</td>\n",
       "      <td>0</td>\n",
       "      <td>43</td>\n",
       "      <td>Cuba</td>\n",
       "      <td>&lt;=50K</td>\n",
       "    </tr>\n",
       "    <tr>\n",
       "      <th>3</th>\n",
       "      <td>4</td>\n",
       "      <td>Private</td>\n",
       "      <td>203488</td>\n",
       "      <td>Bachelors</td>\n",
       "      <td>13</td>\n",
       "      <td>Married-civ-spouse</td>\n",
       "      <td>Sales</td>\n",
       "      <td>Husband</td>\n",
       "      <td>White</td>\n",
       "      <td>Male</td>\n",
       "      <td>0</td>\n",
       "      <td>0</td>\n",
       "      <td>40</td>\n",
       "      <td>Mexico</td>\n",
       "      <td>&lt;=50K</td>\n",
       "    </tr>\n",
       "    <tr>\n",
       "      <th>4</th>\n",
       "      <td>5</td>\n",
       "      <td>Private</td>\n",
       "      <td>11470</td>\n",
       "      <td>Bachelors</td>\n",
       "      <td>13</td>\n",
       "      <td>Married-civ-spouse</td>\n",
       "      <td>Other-service</td>\n",
       "      <td>Husband</td>\n",
       "      <td>White</td>\n",
       "      <td>Male</td>\n",
       "      <td>0</td>\n",
       "      <td>0</td>\n",
       "      <td>40</td>\n",
       "      <td>Germany</td>\n",
       "      <td>&lt;=50K</td>\n",
       "    </tr>\n",
       "    <tr>\n",
       "      <th>...</th>\n",
       "      <td>...</td>\n",
       "      <td>...</td>\n",
       "      <td>...</td>\n",
       "      <td>...</td>\n",
       "      <td>...</td>\n",
       "      <td>...</td>\n",
       "      <td>...</td>\n",
       "      <td>...</td>\n",
       "      <td>...</td>\n",
       "      <td>...</td>\n",
       "      <td>...</td>\n",
       "      <td>...</td>\n",
       "      <td>...</td>\n",
       "      <td>...</td>\n",
       "      <td>...</td>\n",
       "    </tr>\n",
       "    <tr>\n",
       "      <th>94</th>\n",
       "      <td>95</td>\n",
       "      <td>Private</td>\n",
       "      <td>169875</td>\n",
       "      <td>Masters</td>\n",
       "      <td>14</td>\n",
       "      <td>Divorced</td>\n",
       "      <td>Adm-clerical</td>\n",
       "      <td>Not-in-family</td>\n",
       "      <td>White</td>\n",
       "      <td>Female</td>\n",
       "      <td>0</td>\n",
       "      <td>0</td>\n",
       "      <td>40</td>\n",
       "      <td>United-States</td>\n",
       "      <td>&lt;=50K</td>\n",
       "    </tr>\n",
       "    <tr>\n",
       "      <th>95</th>\n",
       "      <td>96</td>\n",
       "      <td>Self-emp-inc</td>\n",
       "      <td>160786</td>\n",
       "      <td>Some-college</td>\n",
       "      <td>10</td>\n",
       "      <td>Never-married</td>\n",
       "      <td>Exec-managerial</td>\n",
       "      <td>Unmarried</td>\n",
       "      <td>Black</td>\n",
       "      <td>Female</td>\n",
       "      <td>0</td>\n",
       "      <td>0</td>\n",
       "      <td>40</td>\n",
       "      <td>United-States</td>\n",
       "      <td>&lt;=50K</td>\n",
       "    </tr>\n",
       "    <tr>\n",
       "      <th>96</th>\n",
       "      <td>97</td>\n",
       "      <td>Private</td>\n",
       "      <td>340914</td>\n",
       "      <td>HS-grad</td>\n",
       "      <td>9</td>\n",
       "      <td>Never-married</td>\n",
       "      <td>Other-service</td>\n",
       "      <td>Not-in-family</td>\n",
       "      <td>White</td>\n",
       "      <td>Female</td>\n",
       "      <td>0</td>\n",
       "      <td>0</td>\n",
       "      <td>25</td>\n",
       "      <td>United-States</td>\n",
       "      <td>&lt;=50K</td>\n",
       "    </tr>\n",
       "    <tr>\n",
       "      <th>97</th>\n",
       "      <td>98</td>\n",
       "      <td>Self-emp-not-inc</td>\n",
       "      <td>147110</td>\n",
       "      <td>10th</td>\n",
       "      <td>6</td>\n",
       "      <td>Never-married</td>\n",
       "      <td>Other-service</td>\n",
       "      <td>Not-in-family</td>\n",
       "      <td>White</td>\n",
       "      <td>Female</td>\n",
       "      <td>0</td>\n",
       "      <td>0</td>\n",
       "      <td>40</td>\n",
       "      <td>United-States</td>\n",
       "      <td>&lt;=50K</td>\n",
       "    </tr>\n",
       "    <tr>\n",
       "      <th>98</th>\n",
       "      <td>99</td>\n",
       "      <td>Private</td>\n",
       "      <td>110610</td>\n",
       "      <td>HS-grad</td>\n",
       "      <td>9</td>\n",
       "      <td>Never-married</td>\n",
       "      <td>Protective-serv</td>\n",
       "      <td>Not-in-family</td>\n",
       "      <td>Black</td>\n",
       "      <td>Male</td>\n",
       "      <td>0</td>\n",
       "      <td>0</td>\n",
       "      <td>40</td>\n",
       "      <td>United-States</td>\n",
       "      <td>&lt;=50K</td>\n",
       "    </tr>\n",
       "  </tbody>\n",
       "</table>\n",
       "<p>99 rows × 15 columns</p>\n",
       "</div>"
      ],
      "text/plain": [
       "    age         workclass  fnlwgt     education  education_num  \\\n",
       "0     1           Private  195426          12th              8   \n",
       "1     2                 ?   69335  Some-college             10   \n",
       "2     3           Private  198186     Bachelors             13   \n",
       "3     4           Private  203488     Bachelors             13   \n",
       "4     5           Private   11470     Bachelors             13   \n",
       "..  ...               ...     ...           ...            ...   \n",
       "94   95           Private  169875       Masters             14   \n",
       "95   96      Self-emp-inc  160786  Some-college             10   \n",
       "96   97           Private  340914       HS-grad              9   \n",
       "97   98  Self-emp-not-inc  147110          10th              6   \n",
       "98   99           Private  110610       HS-grad              9   \n",
       "\n",
       "        marital_status       occupation   relationship   race  gender  \\\n",
       "0   Married-civ-spouse                ?        Husband  White    Male   \n",
       "1   Married-civ-spouse                ?        Husband  White    Male   \n",
       "2   Married-civ-spouse            Sales        Husband  White    Male   \n",
       "3   Married-civ-spouse            Sales        Husband  White    Male   \n",
       "4   Married-civ-spouse    Other-service        Husband  White    Male   \n",
       "..                 ...              ...            ...    ...     ...   \n",
       "94            Divorced     Adm-clerical  Not-in-family  White  Female   \n",
       "95       Never-married  Exec-managerial      Unmarried  Black  Female   \n",
       "96       Never-married    Other-service  Not-in-family  White  Female   \n",
       "97       Never-married    Other-service  Not-in-family  White  Female   \n",
       "98       Never-married  Protective-serv  Not-in-family  Black    Male   \n",
       "\n",
       "   capital_gain  capital_loss  hours_per_week native_country income_bracket  \n",
       "0             0             0              40              ?          <=50K  \n",
       "1             0             0              40           Cuba          <=50K  \n",
       "2             0             0              43           Cuba          <=50K  \n",
       "3             0             0              40         Mexico          <=50K  \n",
       "4             0             0              40        Germany          <=50K  \n",
       "..          ...           ...             ...            ...            ...  \n",
       "94            0             0              40  United-States          <=50K  \n",
       "95            0             0              40  United-States          <=50K  \n",
       "96            0             0              25  United-States          <=50K  \n",
       "97            0             0              40  United-States          <=50K  \n",
       "98            0             0              40  United-States          <=50K  \n",
       "\n",
       "[99 rows x 15 columns]"
      ]
     },
     "execution_count": 11,
     "metadata": {},
     "output_type": "execute_result"
    }
   ],
   "source": [
    "df"
   ]
  },
  {
   "cell_type": "code",
   "execution_count": null,
   "id": "collective-constitutional",
   "metadata": {},
   "outputs": [],
   "source": [
    "len(df)"
   ]
  },
  {
   "cell_type": "code",
   "execution_count": null,
   "id": "amazing-reserve",
   "metadata": {},
   "outputs": [],
   "source": [
    "factory.summary"
   ]
  },
  {
   "cell_type": "code",
   "execution_count": null,
   "id": "cutting-acrylic",
   "metadata": {},
   "outputs": [],
   "source": [
    "factory._delimiter"
   ]
  },
  {
   "cell_type": "code",
   "execution_count": null,
   "id": "double-internet",
   "metadata": {},
   "outputs": [],
   "source": [
    "d = next(factory)"
   ]
  },
  {
   "cell_type": "code",
   "execution_count": null,
   "id": "congressional-fellow",
   "metadata": {},
   "outputs": [],
   "source": [
    "d"
   ]
  },
  {
   "cell_type": "code",
   "execution_count": null,
   "id": "varied-performer",
   "metadata": {},
   "outputs": [],
   "source": [
    "d.values()"
   ]
  },
  {
   "cell_type": "code",
   "execution_count": null,
   "id": "advance-treatment",
   "metadata": {},
   "outputs": [],
   "source": [
    "df = factory.generate_all(output=\"df\")"
   ]
  },
  {
   "cell_type": "code",
   "execution_count": null,
   "id": "manufactured-machine",
   "metadata": {},
   "outputs": [],
   "source": [
    "df"
   ]
  },
  {
   "cell_type": "code",
   "execution_count": null,
   "id": "lesbian-analysis",
   "metadata": {},
   "outputs": [],
   "source": [
    "df.dtypes"
   ]
  },
  {
   "cell_type": "code",
   "execution_count": null,
   "id": "precious-things",
   "metadata": {},
   "outputs": [],
   "source": [
    "factory.summary"
   ]
  },
  {
   "cell_type": "code",
   "execution_count": null,
   "id": "pointed-people",
   "metadata": {},
   "outputs": [],
   "source": [
    "start = time.perf_counter()\n",
    "batch.generate_all_batch_lines(max_invalid=5000, num_lines=2000, parallelism=4)\n",
    "took = time.perf_counter() - start\n",
    "print(took)"
   ]
  },
  {
   "cell_type": "code",
   "execution_count": null,
   "id": "activated-police",
   "metadata": {},
   "outputs": [],
   "source": [
    "pd.DataFrame.from_dict(\n",
    "[\n",
    "    {\"foo\": -12.484},\n",
    "    {\"foo\": 383.333}\n",
    "]\n",
    ").dtypes"
   ]
  },
  {
   "cell_type": "code",
   "execution_count": null,
   "id": "cheap-karen",
   "metadata": {},
   "outputs": [],
   "source": [
    "start = time.perf_counter()\n",
    "factory = batch.create_record_factory(num_lines=200)\n",
    "recs = []\n",
    "count = 0\n",
    "for record in factory:\n",
    "    recs.append(record)\n",
    "    count += 1\n",
    "    print(count)\n",
    "took = time.perf_counter() - start\n",
    "print(took)"
   ]
  },
  {
   "cell_type": "code",
   "execution_count": null,
   "id": "administrative-apartment",
   "metadata": {},
   "outputs": [],
   "source": [
    "s = factory.get_session()"
   ]
  },
  {
   "cell_type": "code",
   "execution_count": null,
   "id": "uniform-supplement",
   "metadata": {},
   "outputs": [],
   "source": [
    "s = factory._get_record()"
   ]
  },
  {
   "cell_type": "code",
   "execution_count": null,
   "id": "similar-spiritual",
   "metadata": {},
   "outputs": [],
   "source": [
    "next(s)"
   ]
  },
  {
   "cell_type": "code",
   "execution_count": null,
   "id": "terminal-charter",
   "metadata": {},
   "outputs": [],
   "source": [
    "next(factory)"
   ]
  },
  {
   "cell_type": "code",
   "execution_count": null,
   "id": "satisfied-animation",
   "metadata": {},
   "outputs": [],
   "source": [
    "factory.summary"
   ]
  },
  {
   "cell_type": "code",
   "execution_count": null,
   "id": "patent-hamburg",
   "metadata": {},
   "outputs": [],
   "source": [
    "next(factory)"
   ]
  },
  {
   "cell_type": "code",
   "execution_count": null,
   "id": "native-bryan",
   "metadata": {},
   "outputs": [],
   "source": [
    "factory.summary"
   ]
  },
  {
   "cell_type": "code",
   "execution_count": null,
   "id": "coastal-multimedia",
   "metadata": {},
   "outputs": [],
   "source": [
    "from dataclasses import dataclass\n",
    "import pandas as pd\n",
    "\n",
    "@dataclass\n",
    "class Test:\n",
    "    count: float\n",
    "    name: str\n",
    "        \n",
    "t1 = Test(5.0, \"foo\").__dict__\n",
    "t2 = Test(\"10\", \"bar\").__dict__\n",
    "\n",
    "pd.DataFrame([t1, t2]).dtypes"
   ]
  },
  {
   "cell_type": "code",
   "execution_count": null,
   "id": "logical-august",
   "metadata": {},
   "outputs": [],
   "source": [
    "def test():\n",
    "    for i in [1, 2, 3]:\n",
    "        yield i\n",
    "        \n"
   ]
  },
  {
   "cell_type": "code",
   "execution_count": null,
   "id": "angry-spider",
   "metadata": {},
   "outputs": [],
   "source": [
    "t = test()"
   ]
  },
  {
   "cell_type": "code",
   "execution_count": null,
   "id": "southeast-chair",
   "metadata": {},
   "outputs": [],
   "source": [
    "next(t)"
   ]
  },
  {
   "cell_type": "code",
   "execution_count": null,
   "id": "junior-playlist",
   "metadata": {},
   "outputs": [],
   "source": []
  }
 ],
 "metadata": {
  "kernelspec": {
   "display_name": "Python 3",
   "language": "python",
   "name": "python3"
  },
  "language_info": {
   "codemirror_mode": {
    "name": "ipython",
    "version": 3
   },
   "file_extension": ".py",
   "mimetype": "text/x-python",
   "name": "python",
   "nbconvert_exporter": "python",
   "pygments_lexer": "ipython3",
   "version": "3.7.9"
  }
 },
 "nbformat": 4,
 "nbformat_minor": 5
}
